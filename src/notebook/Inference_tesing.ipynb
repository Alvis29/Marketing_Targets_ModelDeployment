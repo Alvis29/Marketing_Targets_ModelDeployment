{
 "cells": [
  {
   "cell_type": "code",
   "execution_count": null,
   "id": "7cbd07f2-ba61-49a8-be5c-8ac3a59fa8d6",
   "metadata": {},
   "outputs": [],
   "source": []
  },
  {
   "cell_type": "code",
   "execution_count": 1,
   "id": "f266b822-0e5c-445a-b758-3a8df0212443",
   "metadata": {},
   "outputs": [],
   "source": [
    "import numpy as np\n",
    "import pandas as pd\n",
    "import joblib"
   ]
  },
  {
   "cell_type": "code",
   "execution_count": 9,
   "id": "1251454d-b375-4bb8-8f4f-630b83dc4650",
   "metadata": {},
   "outputs": [],
   "source": []
  },
  {
   "cell_type": "code",
   "execution_count": 2,
   "id": "28bc1c2b-6873-47ab-91d6-e03242126b87",
   "metadata": {},
   "outputs": [],
   "source": [
    "final_columns = ['age', 'job', 'marital', 'education', 'balance', 'housing', 'loan',\n",
    "       'contact', 'month', 'duration', 'campaign', 'pdays', 'previous',\n",
    "       'poutcome']"
   ]
  },
  {
   "cell_type": "code",
   "execution_count": 3,
   "id": "fce10529-0c9b-46f8-ab06-e4fcfa590068",
   "metadata": {},
   "outputs": [],
   "source": [
    "test_input1 = {'age' : [25], \n",
    "         'job': ['student'],\n",
    "         'marital': ['single'] ,\n",
    "         'education' : ['tertiary'], \n",
    "         'default' : ['no'],\n",
    "         'balance' : [100],\n",
    "         'housing' : ['yes'], \n",
    "         'loan' : ['no'],\n",
    "         'contact' : ['cellular'],\n",
    "         'day' : [5],\n",
    "         'month' : ['may'],\n",
    "         'duration' : [650],\n",
    "         'campaign' : [10],\n",
    "         'pdays' : [-1], \n",
    "         'previous' : [4],\n",
    "         'poutcome' : ['unknown']}"
   ]
  },
  {
   "cell_type": "code",
   "execution_count": null,
   "id": "367e2ce6-329f-4632-b548-c0b128accf8f",
   "metadata": {},
   "outputs": [],
   "source": []
  },
  {
   "cell_type": "code",
   "execution_count": 4,
   "id": "564fef61-825f-4566-875a-794608760960",
   "metadata": {},
   "outputs": [],
   "source": [
    "test_pipline= joblib.load('Transformation_objects/test_pipline.joblib')"
   ]
  },
  {
   "cell_type": "code",
   "execution_count": 5,
   "id": "1c69fe8d-dc55-4d72-aff4-88943a5d4258",
   "metadata": {},
   "outputs": [],
   "source": [
    "model = joblib.load('Model/RandomForest.joblib')"
   ]
  },
  {
   "cell_type": "code",
   "execution_count": 6,
   "id": "180ba8ba-e276-4d9e-9f5f-a51db64a24e0",
   "metadata": {},
   "outputs": [
    {
     "data": {
      "text/html": [
       "<style>#sk-container-id-1 {color: black;}#sk-container-id-1 pre{padding: 0;}#sk-container-id-1 div.sk-toggleable {background-color: white;}#sk-container-id-1 label.sk-toggleable__label {cursor: pointer;display: block;width: 100%;margin-bottom: 0;padding: 0.3em;box-sizing: border-box;text-align: center;}#sk-container-id-1 label.sk-toggleable__label-arrow:before {content: \"▸\";float: left;margin-right: 0.25em;color: #696969;}#sk-container-id-1 label.sk-toggleable__label-arrow:hover:before {color: black;}#sk-container-id-1 div.sk-estimator:hover label.sk-toggleable__label-arrow:before {color: black;}#sk-container-id-1 div.sk-toggleable__content {max-height: 0;max-width: 0;overflow: hidden;text-align: left;background-color: #f0f8ff;}#sk-container-id-1 div.sk-toggleable__content pre {margin: 0.2em;color: black;border-radius: 0.25em;background-color: #f0f8ff;}#sk-container-id-1 input.sk-toggleable__control:checked~div.sk-toggleable__content {max-height: 200px;max-width: 100%;overflow: auto;}#sk-container-id-1 input.sk-toggleable__control:checked~label.sk-toggleable__label-arrow:before {content: \"▾\";}#sk-container-id-1 div.sk-estimator input.sk-toggleable__control:checked~label.sk-toggleable__label {background-color: #d4ebff;}#sk-container-id-1 div.sk-label input.sk-toggleable__control:checked~label.sk-toggleable__label {background-color: #d4ebff;}#sk-container-id-1 input.sk-hidden--visually {border: 0;clip: rect(1px 1px 1px 1px);clip: rect(1px, 1px, 1px, 1px);height: 1px;margin: -1px;overflow: hidden;padding: 0;position: absolute;width: 1px;}#sk-container-id-1 div.sk-estimator {font-family: monospace;background-color: #f0f8ff;border: 1px dotted black;border-radius: 0.25em;box-sizing: border-box;margin-bottom: 0.5em;}#sk-container-id-1 div.sk-estimator:hover {background-color: #d4ebff;}#sk-container-id-1 div.sk-parallel-item::after {content: \"\";width: 100%;border-bottom: 1px solid gray;flex-grow: 1;}#sk-container-id-1 div.sk-label:hover label.sk-toggleable__label {background-color: #d4ebff;}#sk-container-id-1 div.sk-serial::before {content: \"\";position: absolute;border-left: 1px solid gray;box-sizing: border-box;top: 0;bottom: 0;left: 50%;z-index: 0;}#sk-container-id-1 div.sk-serial {display: flex;flex-direction: column;align-items: center;background-color: white;padding-right: 0.2em;padding-left: 0.2em;position: relative;}#sk-container-id-1 div.sk-item {position: relative;z-index: 1;}#sk-container-id-1 div.sk-parallel {display: flex;align-items: stretch;justify-content: center;background-color: white;position: relative;}#sk-container-id-1 div.sk-item::before, #sk-container-id-1 div.sk-parallel-item::before {content: \"\";position: absolute;border-left: 1px solid gray;box-sizing: border-box;top: 0;bottom: 0;left: 50%;z-index: -1;}#sk-container-id-1 div.sk-parallel-item {display: flex;flex-direction: column;z-index: 1;position: relative;background-color: white;}#sk-container-id-1 div.sk-parallel-item:first-child::after {align-self: flex-end;width: 50%;}#sk-container-id-1 div.sk-parallel-item:last-child::after {align-self: flex-start;width: 50%;}#sk-container-id-1 div.sk-parallel-item:only-child::after {width: 0;}#sk-container-id-1 div.sk-dashed-wrapped {border: 1px dashed gray;margin: 0 0.4em 0.5em 0.4em;box-sizing: border-box;padding-bottom: 0.4em;background-color: white;}#sk-container-id-1 div.sk-label label {font-family: monospace;font-weight: bold;display: inline-block;line-height: 1.2em;}#sk-container-id-1 div.sk-label-container {text-align: center;}#sk-container-id-1 div.sk-container {/* jupyter's `normalize.less` sets `[hidden] { display: none; }` but bootstrap.min.css set `[hidden] { display: none !important; }` so we also need the `!important` here to be able to override the default hidden behavior on the sphinx rendered scikit-learn.org. See: https://github.com/scikit-learn/scikit-learn/issues/21755 */display: inline-block !important;position: relative;}#sk-container-id-1 div.sk-text-repr-fallback {display: none;}</style><div id=\"sk-container-id-1\" class=\"sk-top-container\"><div class=\"sk-text-repr-fallback\"><pre>RandomForestClassifier(random_state=42)</pre><b>In a Jupyter environment, please rerun this cell to show the HTML representation or trust the notebook. <br />On GitHub, the HTML representation is unable to render, please try loading this page with nbviewer.org.</b></div><div class=\"sk-container\" hidden><div class=\"sk-item\"><div class=\"sk-estimator sk-toggleable\"><input class=\"sk-toggleable__control sk-hidden--visually\" id=\"sk-estimator-id-1\" type=\"checkbox\" checked><label for=\"sk-estimator-id-1\" class=\"sk-toggleable__label sk-toggleable__label-arrow\">RandomForestClassifier</label><div class=\"sk-toggleable__content\"><pre>RandomForestClassifier(random_state=42)</pre></div></div></div></div></div>"
      ],
      "text/plain": [
       "RandomForestClassifier(random_state=42)"
      ]
     },
     "execution_count": 6,
     "metadata": {},
     "output_type": "execute_result"
    }
   ],
   "source": [
    "model"
   ]
  },
  {
   "cell_type": "code",
   "execution_count": 7,
   "id": "ef30a0da-6bba-4251-9f24-9fc0a9dca67c",
   "metadata": {},
   "outputs": [],
   "source": [
    "def to_dataframe(input:dict)->pd.DataFrame:\n",
    "    ''' convert input into a dataframe '''\n",
    "    test_dataframe = pd.DataFrame.from_dict(input)\n",
    "    return test_dataframe"
   ]
  },
  {
   "cell_type": "code",
   "execution_count": 8,
   "id": "0e08bee7-12d2-47dc-8863-b2a7bbae5df5",
   "metadata": {},
   "outputs": [],
   "source": [
    "def feture_selection(dataframe:pd.DataFrame)->pd.DataFrame:\n",
    "    ''' drop the least significant fetures '''\n",
    "    dataframe.drop({'default','day'},axis= 1 ,inplace= True)\n",
    "    dataframe.columns = final_columns\n",
    "    return dataframe"
   ]
  },
  {
   "cell_type": "code",
   "execution_count": 9,
   "id": "7e139a65-8698-4b42-968b-37b1c59429e5",
   "metadata": {},
   "outputs": [],
   "source": [
    "def preditiction(dataframe:pd.DataFrame)->np.ndarray:\n",
    "    ''' get the prediction array  '''\n",
    "    pred = test_pipline.predict(dataframe)\n",
    "    return pred"
   ]
  },
  {
   "cell_type": "code",
   "execution_count": 10,
   "id": "e517349d-298b-4465-93fb-0b0522f9297f",
   "metadata": {},
   "outputs": [],
   "source": [
    "#function to convert integer output to desired string output 'yes' or 'no'\n",
    "def array_tostr(array : np.ndarray)->list:\n",
    "    ''' prediction 'yes' or 'no' from predicted probabilty array '''\n",
    "    pred_list = []\n",
    "    for pred in array:\n",
    "        if pred == 0:\n",
    "            pred_list.append('no')\n",
    "        \n",
    "        if pred == 1:\n",
    "            pred_list.append('yes')\n",
    "    return pred_list"
   ]
  },
  {
   "cell_type": "code",
   "execution_count": 11,
   "id": "9998148f-bad0-4c9e-b661-231119dfcb4c",
   "metadata": {},
   "outputs": [],
   "source": [
    "def final_prediction(input)->list:\n",
    "    ''' to get the predtiction 'yes' or 'no' for the test input '''\n",
    "    if type(input) == dict:\n",
    "        input = to_dataframe(input)\n",
    "    final_dataframe = feture_selection(input)\n",
    "    pred = preditiction(input)\n",
    "    pred = array_tostr(pred)\n",
    "    return pred"
   ]
  },
  {
   "cell_type": "code",
   "execution_count": 12,
   "id": "af60b493-10ee-4aa8-ac01-48633976722c",
   "metadata": {},
   "outputs": [
    {
     "data": {
      "text/plain": [
       "['yes']"
      ]
     },
     "execution_count": 12,
     "metadata": {},
     "output_type": "execute_result"
    }
   ],
   "source": [
    "pred = final_prediction(test_input1)\n",
    "pred"
   ]
  }
 ],
 "metadata": {
  "kernelspec": {
   "display_name": "Marketing",
   "language": "python",
   "name": "marketing"
  },
  "language_info": {
   "codemirror_mode": {
    "name": "ipython",
    "version": 3
   },
   "file_extension": ".py",
   "mimetype": "text/x-python",
   "name": "python",
   "nbconvert_exporter": "python",
   "pygments_lexer": "ipython3",
   "version": "3.10.13"
  }
 },
 "nbformat": 4,
 "nbformat_minor": 5
}
