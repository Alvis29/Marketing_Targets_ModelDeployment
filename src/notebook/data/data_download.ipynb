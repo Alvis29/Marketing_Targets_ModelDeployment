{
 "cells": [
  {
   "cell_type": "code",
   "execution_count": 1,
   "id": "95cd8b98-8e6b-414d-be49-4ac22862b855",
   "metadata": {},
   "outputs": [],
   "source": [
    "from zipfile import ZipFile\n",
    "import os"
   ]
  },
  {
   "cell_type": "code",
   "execution_count": 9,
   "id": "cd63abdc-0b21-4861-8f09-615c560e949c",
   "metadata": {},
   "outputs": [],
   "source": [
    "os.environ['KAGGLE_CONFIG_DIR'] = '/home/alvis/Terry/Projects/Marketing_Targets/src/notebook/data'"
   ]
  },
  {
   "cell_type": "code",
   "execution_count": 10,
   "id": "38b8b830-19a6-4edc-9d9f-e4e6473bd25f",
   "metadata": {},
   "outputs": [
    {
     "name": "stdout",
     "output_type": "stream",
     "text": [
      "Warning: Your Kaggle API key is readable by other users on this system! To fix this, you can run 'chmod 600 /home/alvis/Terry/Projects/Marketing_Targets/src/notebook/data/kaggle.json'\n",
      "Downloading banking-dataset-marketing-targets.zip to /home/alvis/Terry/Projects/Marketing_Targets/src/notebook/data\n",
      "100%|█████████████████████████████████████████| 576k/576k [00:01<00:00, 428kB/s]\n",
      "100%|█████████████████████████████████████████| 576k/576k [00:01<00:00, 428kB/s]\n"
     ]
    }
   ],
   "source": [
    "!kaggle datasets download -d prakharrathi25/banking-dataset-marketing-targets"
   ]
  },
  {
   "cell_type": "code",
   "execution_count": 12,
   "id": "e1b6d0d2-bcc9-4831-a7c3-9b44aa197c9a",
   "metadata": {},
   "outputs": [],
   "source": [
    "zipfile_name = 'banking-dataset-marketing-targets.zip'\n",
    "\n",
    "with ZipFile(zipfile_name,'r') as file:\n",
    "     file.extractall()"
   ]
  },
  {
   "cell_type": "code",
   "execution_count": null,
   "id": "1c80c77d-6a5f-4565-909f-6d458b1cd871",
   "metadata": {},
   "outputs": [],
   "source": []
  }
 ],
 "metadata": {
  "kernelspec": {
   "display_name": "Marketing",
   "language": "python",
   "name": "marketing"
  },
  "language_info": {
   "codemirror_mode": {
    "name": "ipython",
    "version": 3
   },
   "file_extension": ".py",
   "mimetype": "text/x-python",
   "name": "python",
   "nbconvert_exporter": "python",
   "pygments_lexer": "ipython3",
   "version": "3.10.13"
  }
 },
 "nbformat": 4,
 "nbformat_minor": 5
}
